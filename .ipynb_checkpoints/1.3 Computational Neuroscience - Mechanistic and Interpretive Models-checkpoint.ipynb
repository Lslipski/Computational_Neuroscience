{
 "cells": [
  {
   "cell_type": "markdown",
   "metadata": {},
   "source": [
    "## II. Mechanistic Model of Receptive Fields"
   ]
  },
  {
   "cell_type": "markdown",
   "metadata": {},
   "source": [
    "<b>Question:</b>\n",
    "How are receptive fields constructed at the neuronal level within V1?"
   ]
  },
  {
   "cell_type": "markdown",
   "metadata": {},
   "source": [
    "From last time it seems that we somehow obtain oriented receptive in V1 from the center-surround receptive fields of the lateral geniculate nucleus."
   ]
  },
  {
   "cell_type": "markdown",
   "metadata": {},
   "source": [
    "It turns out that in the neural circuitry, the mapping from LGN cells to V1 cells is a many to one (actually many to many fewer) relationship. The direction of the information is also <i>feed-foward</i> such that the center-surround cells transmit a signal to the V1 cell, and not the other way around.\n",
    "\n",
    "Therefore, when you arrange many center-surround receptive fields with their centers in a row, you obtain a shape much like the oriented receptive field.\n",
    "\n",
    "<img src=\"orientedrf.png\">"
   ]
  },
  {
   "cell_type": "markdown",
   "metadata": {},
   "source": [
    "<b>Note:</b> This explanation/model of the orientation of center-surround input leading to oriented fields was proposed in the 1960s (Hubel & Wiesel) and is itself a <i>mechanistic model</i>. \n",
    "However, this models is still controversal. This is largely because it does not take into account inputs from other V1 cells (recurrent connections) that the V1 cell receives simultaneously."
   ]
  },
  {
   "cell_type": "markdown",
   "metadata": {},
   "source": [
    "## III. Interpretive Model of Receptive Fields"
   ]
  },
  {
   "cell_type": "markdown",
   "metadata": {},
   "source": [
    "<b>Questions:</b> Why are receptive fields in V1 shaped this way? \n",
    "What are the <i>computational advantages</i> of such receptive fields?"
   ]
  },
  {
   "cell_type": "markdown",
   "metadata": {},
   "source": [
    "The latter of these two questions is one perhaps asked by a computer scientist. But it also is one that ultimately should be asked by the evolutionary biologist as well. When we ask what advantages the setup of the brain confers on the organism, we're really asking why this setup is seen today in place of another one. Put another way, why were the genes that code for this type of brain circuitry successful in being passed on?"
   ]
  },
  {
   "cell_type": "markdown",
   "metadata": {},
   "source": [
    "<b>Hypothesis: Efficient Coding</b>\n",
    "The goal of the visual system is to represent images as faithfully and efficiently as possible using receptive fields $RF_1, RF_2,...,RF_n$"
   ]
  },
  {
   "cell_type": "markdown",
   "metadata": {},
   "source": [
    "Given image $I$, we can <i>reconstruct</i> $I$ using neural responses $r_1, r_2,...r_m$ $$\\hat I=\\sum\\limits_{i} RF_ir_i$$"
   ]
  },
  {
   "cell_type": "markdown",
   "metadata": {},
   "source": [
    "So the question is, what are the $RF_i$ that minimize the total squared pixelwise errors between $I$ and $\\hat I$ and are as <i>independent</i> as possible?"
   ]
  },
  {
   "cell_type": "markdown",
   "metadata": {},
   "source": [
    "Here, minimizing the error makes the representation faithful, and independence among the receptive fields makes them efficient because then only specific neurons are firing to specific receptive fields."
   ]
  },
  {
   "cell_type": "markdown",
   "metadata": {},
   "source": [
    "One idea is to linearly combine receptive fields where the coefficients are the strength of the response of a neuron to its receptive field. It would look like this:$$I=3^*RF_1 + 17^*RF_2 + 4^*RF_3$$\n",
    "With the response to $RF_2$ being the strongest."
   ]
  },
  {
   "cell_type": "markdown",
   "metadata": {},
   "source": [
    "<b>Test:</b> To test this hypothesis, we could begin with random receptive fields and run an efficient coding algorithm on natural image patches to see the receptive fields obtained.\n",
    "\n",
    "Three popular efficient coding algorithms have been proposed:\n",
    "\n",
    "1.) Sparse coding (Olshausen & Field, 1996)\n",
    "\n",
    "2.) ICA (Bell & Sejnowski, 1997)\n",
    "\n",
    "3.) Rau & Ballard, 1999)"
   ]
  },
  {
   "cell_type": "markdown",
   "metadata": {},
   "source": [
    "What you find is something like the below picture, with receptive fields that look quite similar to our V1 oriented receptive field models:\n",
    "<img src=\"artificialrf.jpg\">"
   ]
  },
  {
   "cell_type": "markdown",
   "metadata": {},
   "source": [
    "<b>Conclusion:</b> It appears that the brain may be trying to code <i>faithful</i> and <i>efficient</i> representations of an animal's environment."
   ]
  },
  {
   "cell_type": "markdown",
   "metadata": {},
   "source": [
    "Note: There is evidence that the auditory cortex representation of sounds is also quite explainable by the principal of efficient coding."
   ]
  },
  {
   "cell_type": "code",
   "execution_count": null,
   "metadata": {
    "collapsed": true
   },
   "outputs": [],
   "source": []
  }
 ],
 "metadata": {
  "kernelspec": {
   "display_name": "Python 3",
   "language": "python",
   "name": "python3"
  },
  "language_info": {
   "codemirror_mode": {
    "name": "ipython",
    "version": 3
   },
   "file_extension": ".py",
   "mimetype": "text/x-python",
   "name": "python",
   "nbconvert_exporter": "python",
   "pygments_lexer": "ipython3",
   "version": "3.6.1"
  }
 },
 "nbformat": 4,
 "nbformat_minor": 2
}
