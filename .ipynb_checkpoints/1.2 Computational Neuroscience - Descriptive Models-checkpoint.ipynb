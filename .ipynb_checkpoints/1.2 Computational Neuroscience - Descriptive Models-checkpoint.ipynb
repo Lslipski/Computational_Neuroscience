{
 "cells": [
  {
   "cell_type": "markdown",
   "metadata": {},
   "source": [
    "## What is Computational Neuroscience?"
   ]
  },
  {
   "cell_type": "markdown",
   "metadata": {},
   "source": [
    "Fitting nicely with our previous types of models:\n",
    "\n",
    "Computational neuroscience provides tools and methods for \"characterizing what nervous systems do, determining how they function, and understanding why they operate in particular ways.\"\n",
    "\n",
    " -> Descriptive (What)\n",
    " \n",
    " -> Mechanistic (How)\n",
    " \n",
    " -> Interpretive (Why)"
   ]
  },
  {
   "cell_type": "markdown",
   "metadata": {},
   "source": [
    "### Responses of a Neuron in an Intact Cat Brain (Hubel and Wiesel, c. 1965)"
   ]
  },
  {
   "cell_type": "markdown",
   "metadata": {},
   "source": [
    "Implanted an electrode into a cat's visual area and recorded the action potentials while showing different types of stimuli to the cat:\n",
    "\n",
    "+ Bar of light oriented $45^\\circ$\n",
    "+ Horizontal bar of light"
   ]
  },
  {
   "cell_type": "markdown",
   "metadata": {},
   "source": [
    "The intensity of the firing of the visual cortical brain cells seems to not care for broad field illumination or when the bar of light was at an orientation other than $45^\\circ$."
   ]
  },
  {
   "cell_type": "markdown",
   "metadata": {},
   "source": [
    "<b>Takeaway:</b>\n",
    "\n",
    "The model of the neuron in this cat brain is most well defined by an encoding function. This means that a stimulus to the brain is being converted into a neurological response. In this case, that function looks like $$Frequency\\,of\\,spikes\\,=\\,f(Light\\,bar's\\,orientation)$$\n",
    "\n",
    "<b>Definition: Receptive Field</b><br>\n",
    "Specific properties of a sensory <i>stimulus</i> that generate a strong response from the cell.\n",
    "\n",
    "The \"receptive field\" of this neuron is the particular orientation of a bar of light that maximizes $f(Light\\,bar's\\,orientation)$. "
   ]
  },
  {
   "cell_type": "markdown",
   "metadata": {},
   "source": [
    "### I. Descriptive Model of Receptive Fields"
   ]
  },
  {
   "cell_type": "markdown",
   "metadata": {},
   "source": [
    "Taking the case of the retina, when you're looking at an object the image is being inverted and projected to the back of the eye. If you record from the retinal ganglion cells, you'll find spikes as information is being sent to other regions of the brain (lateral geniculate nucleus (LGN)).\n",
    "\n",
    "<img src=\"dmorf.jpg\">"
   ]
  },
  {
   "cell_type": "markdown",
   "metadata": {},
   "source": [
    "How would you design an experiement to determine the receptive fields of the retina?\n",
    "\n",
    "Try to flash spots of light at different locations on the retina. You might find only a strong response when you flash the light <b>onto</b> a specific location. But when you turn on the light in the surrounding area, the spikes disappear. "
   ]
  },
  {
   "cell_type": "markdown",
   "metadata": {},
   "source": [
    "<b>Definition: Center-surround receptive fields in the retina</b><br>\n",
    "When light is turned <i>on</i> in the <i>center</i> of the region, activity in the retinal cells increases. Also when light is turned <i>off</i> in the <i>surrounding</i> region, activity in the retinal cell decreases."
   ]
  },
  {
   "cell_type": "markdown",
   "metadata": {},
   "source": [
    "<img src=\"ocosrf.jpg\">"
   ]
  },
  {
   "cell_type": "markdown",
   "metadata": {},
   "source": [
    "<b>Note:</b> The center being referred to here is the center of just a small area of the retina that many cells in the retina associate with. Cells on one side of the retina aren't nearly as affected by light at an opposite end of the retina."
   ]
  },
  {
   "cell_type": "markdown",
   "metadata": {},
   "source": [
    "<b>Takeaway:</b>\n",
    "These regions in the retina act as filters for neural activity which can be dfined as simple mathematical operations"
   ]
  },
  {
   "cell_type": "markdown",
   "metadata": {},
   "source": [
    "<img src=\"dmorf.jpg\">\n",
    "\n",
    "The information is then passed to the primary visual cortex (V1) in the back of the brain. But what types of receptive fields exist there?"
   ]
  },
  {
   "cell_type": "markdown",
   "metadata": {},
   "source": [
    "As we saw earlier, these neurons respond most strongly to bars of light oriented at $45^\\circ$. These are known as oriented receptive fields and can be represented like this:\n",
    "\n",
    "<img src=\"orf.png\">"
   ]
  },
  {
   "cell_type": "markdown",
   "metadata": {},
   "source": [
    "<b>Takeaway:</b>\n",
    "These drawings correspond to a descriptive model of the oriented receptive field of a neuron in the primary visual cortex of a cat. "
   ]
  },
  {
   "cell_type": "markdown",
   "metadata": {},
   "source": [
    "Of course, these are not the only types of receptive fields, and if you record from many different neurons you'll find the orientations differ (like the images above)."
   ]
  },
  {
   "cell_type": "markdown",
   "metadata": {},
   "source": [
    "We will learn how to quantitatively estimate these types of receptive fields using a reverse correlation."
   ]
  }
 ],
 "metadata": {
  "kernelspec": {
   "display_name": "Python 3",
   "language": "python",
   "name": "python3"
  },
  "language_info": {
   "codemirror_mode": {
    "name": "ipython",
    "version": 3
   },
   "file_extension": ".py",
   "mimetype": "text/x-python",
   "name": "python",
   "nbconvert_exporter": "python",
   "pygments_lexer": "ipython3",
   "version": "3.6.1"
  }
 },
 "nbformat": 4,
 "nbformat_minor": 2
}
