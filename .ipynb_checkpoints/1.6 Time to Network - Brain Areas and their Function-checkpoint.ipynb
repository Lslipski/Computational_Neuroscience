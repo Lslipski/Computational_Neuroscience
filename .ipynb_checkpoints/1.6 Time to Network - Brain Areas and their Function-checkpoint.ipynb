{
 "cells": [
  {
   "cell_type": "markdown",
   "metadata": {},
   "source": [
    "# 1.6 Brain Areas and their Function"
   ]
  },
  {
   "cell_type": "markdown",
   "metadata": {},
   "source": [
    "When talking about the nervous system, it is typically separated into the <b>peripheral</b> nervous system (PNS) and the <b>central</b> nervous system (CNS).<br>\n",
    "<br>The peripheral nervous system is talked about in terms of the <b>somatic</b> and <b>autonomic</b> systems.<br>\n",
    "The central nervous system is talked about in terms of the <b>brain</b> and the <b>spinal cord</b>"
   ]
  },
  {
   "cell_type": "markdown",
   "metadata": {},
   "source": [
    "## Peripheral Nervous System (PNS)"
   ]
  },
  {
   "cell_type": "markdown",
   "metadata": {},
   "source": [
    "<b>Somatic:</b> Nerves connecting voluntary skeletal muscles and sensory receptors.<br>\n",
    "**Note that when we say \"nerves\" here we mean a bundle of axons<br>\n",
    "\n",
    "Example: In order to shake someone's hand, you're going to send a signal from your brain and spinal cord to your hand and arm, and when you shake you're going to get the sensation of touch through the sensory receptors in your skin.<br>\n",
    "<ul>\n",
    "<li><b>Afferent Nerve Fibers:</b> Axons that carry info away from the periphery to the CNS\n",
    "<li><b>Efferent Nerve Fibers:</b> Axons that carry info from the CNS outward to the periphery\n"
   ]
  },
  {
   "cell_type": "markdown",
   "metadata": {},
   "source": [
    "<b>Autonomic:</b> Nerves that connect to the internal organs such as the heart, blood vessels, smooth muscles, and glands. This system mostly operates below the level of consciousness.<br>\n",
    "Example: The autonomic PNS coordinates vitals such as heart rate, respiration, digestion. It is also in charge of the fight or flight response."
   ]
  },
  {
   "cell_type": "markdown",
   "metadata": {},
   "source": [
    "## Central Nervous System (CNS)"
   ]
  },
  {
   "cell_type": "markdown",
   "metadata": {},
   "source": [
    "**Comprised of the spinal cord and the brain"
   ]
  },
  {
   "cell_type": "markdown",
   "metadata": {},
   "source": [
    "<b>Spinal Cord:</b> a bundle of axons that includes the following functions\n",
    "<ul>\n",
    "<li> Local feedback loops that control \"reflex arcs\"<br>\n",
    "Example: You touched a hot pan and before you could even think \"ouch\" your hand had already withdrew.\n",
    "<li> Descending motor control signals from the brain, which activate spinal motor neurons<br>\n",
    "Example: Brain tells spine to implement the procedure for walking, while the brain can do other things like talking.\n",
    "<li> Ascending sensory axons convey sensory information from the muscles and skin back to the brain.\n",
    "Example: If you trip while walking, this information will go up to the brain and perhaps interrupt the talking you're doing.\n"
   ]
  },
  {
   "cell_type": "markdown",
   "metadata": {},
   "source": [
    "### Brain"
   ]
  },
  {
   "cell_type": "markdown",
   "metadata": {},
   "source": [
    "#### Region 1: The Hindbrain"
   ]
  },
  {
   "cell_type": "markdown",
   "metadata": {},
   "source": [
    "Medulla Oblongata - Controls breathing, muscle tone, and blood pressure. "
   ]
  },
  {
   "cell_type": "markdown",
   "metadata": {},
   "source": [
    "Pons - connected to the cerebellum and involved in sleep and arousal. "
   ]
  },
  {
   "cell_type": "markdown",
   "metadata": {},
   "source": [
    "Cerebellum - Coordination and timing of voluntary movements, sense of equilibrium, language, attention, and others <img src=\"hindbrain.png\">"
   ]
  },
  {
   "cell_type": "markdown",
   "metadata": {},
   "source": [
    "#### Region 2: The Midbrain and Reticular Formation"
   ]
  },
  {
   "cell_type": "markdown",
   "metadata": {},
   "source": [
    "Midbrain - Eye movements, visual and auditory reflexes"
   ]
  },
  {
   "cell_type": "markdown",
   "metadata": {},
   "source": [
    "Reticular Formation - Modulates muscles reflexes, breathing, and pain perception. Regulates sleep, wakefulness, and arousal.<img src=\"midbrain.png\">"
   ]
  },
  {
   "cell_type": "markdown",
   "metadata": {},
   "source": [
    "#### Region 3: The Thalamus and Hypothalamus"
   ]
  },
  {
   "cell_type": "markdown",
   "metadata": {},
   "source": [
    "Thalamus - Made of a number of nuclei*. \"Relay station\" for all sensory information (except smell) to the cortex, regulates sleep/wakefulness\n",
    "\n",
    "*Nuclei are clusters of neurons that can be definied anatomically"
   ]
  },
  {
   "cell_type": "markdown",
   "metadata": {},
   "source": [
    "Hypothalamus - Regulates basic needs. Fighting, Fleeing, Feeding, and Mating <img src=\"thalamus.png\">"
   ]
  },
  {
   "cell_type": "markdown",
   "metadata": {},
   "source": [
    "#### Region 4: The Cerebrum"
   ]
  },
  {
   "cell_type": "markdown",
   "metadata": {},
   "source": [
    "<b>Cerebrum</b> - Cerebral cortex, basal ganglia, hippocampus, and amygdala. It is involved in perception and motor control, cognitive functions, emotion, memory, and learning."
   ]
  },
  {
   "cell_type": "markdown",
   "metadata": {},
   "source": [
    "Cerebral Cortex: A layered sheet of neurons. It is the surface of the cerebrum, and is about $1/8^{th}$ an inch thick. Contains:\n",
    "<ul>\n",
    "<li>About 30 billion neurons, each with about 10,000 synapses\n",
    "<li>Therefore about 300 trillion connections in total\n",
    "</ul>"
   ]
  },
  {
   "cell_type": "markdown",
   "metadata": {},
   "source": [
    "There are six layers of neurons which are relatively uniform in structure. This suggests there may be a common computational principle working across layers of the cortex.\n",
    "<img src=\"cortex1.png\"><img src=\"cortex2.png\">"
   ]
  },
  {
   "cell_type": "markdown",
   "metadata": {},
   "source": [
    "<b>Question:</b> How do all of these regions interact to produce cognition and consciesness?\n",
    "\n",
    "We don't really know yet. But we now have many types of studies:\n",
    "<ul>\n",
    "<li>electrophysiological\n",
    "<li>optical\n",
    "<li>molecular\n",
    "<li>functional imaging\n",
    "<li>psychophysical\n",
    "<li>anatomical\n",
    "<li>connectomic\n",
    "<li>lesion (brain damage)\n",
    "<ul>"
   ]
  },
  {
   "cell_type": "markdown",
   "metadata": {},
   "source": [
    "### Neural vs. Digital Computing"
   ]
  },
  {
   "cell_type": "markdown",
   "metadata": {},
   "source": [
    "<b>Device Count:</b><br>\n",
    "    -->Brain: $10^{11}$ neurons (each with ~$10^4$ connections)<br>\n",
    "    -->Silicon Chip: $10^{10}$ transistors with sparse connectivity<br>\n",
    "<b>Device Speed</b><br>\n",
    "    -->Brain: 100$\\mu s$<br>\n",
    "    -->Digital Circuits: approaching 100$ps$ (10 GHz)<br>\n",
    "    \n",
    "However, the brain outperforms digital circuits in fast object recognition and speech recognitions. This is because the brain is massively paralleled computation in networks of neurons, and it uses adaptive connectivity. Digital computers use sequential processing with CPUs and fixed connectivity.<br>\n",
    "\n",
    "<b>Takeaway: </b>This means that computers are better in math and symbol processing, but brains are better at \"ill-posed\" problems (speech, vision)\n"
   ]
  },
  {
   "cell_type": "markdown",
   "metadata": {},
   "source": [
    "### Conclusions and Summary"
   ]
  },
  {
   "cell_type": "markdown",
   "metadata": {},
   "source": [
    "The structure and organization of the brain suggests a few things:<br>\n",
    "<ol>\n",
    "<li> Information is stored in the physical and chemical structure of neurons and synapses\n",
    "<li> Information is transmitted via electical and chemical signaling\n",
    "<li> The brain's primary computing elements are the neurons\n",
    "<li> The brain's computational basis is currently unknown\n",
    "</ol><br>\n",
    "\n",
    "<b>Note:</b> much of what we're interested in here is the storage and transmission of information. The brain is a mechanism for data manipulation."
   ]
  }
 ],
 "metadata": {
  "kernelspec": {
   "display_name": "Python 3",
   "language": "python",
   "name": "python3"
  },
  "language_info": {
   "codemirror_mode": {
    "name": "ipython",
    "version": 3
   },
   "file_extension": ".py",
   "mimetype": "text/x-python",
   "name": "python",
   "nbconvert_exporter": "python",
   "pygments_lexer": "ipython3",
   "version": "3.6.1"
  }
 },
 "nbformat": 4,
 "nbformat_minor": 2
}
