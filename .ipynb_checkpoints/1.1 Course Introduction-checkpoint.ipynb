{
 "cells": [
  {
   "cell_type": "markdown",
   "metadata": {},
   "source": [
    "## Understanding the brain using computational models"
   ]
  },
  {
   "cell_type": "markdown",
   "metadata": {},
   "source": [
    "Descriptive Models of the Brain\n",
    "<ul> \n",
    "    <li>How do neurons respond to external stimuli and how do we       describe this quantitatively with a neural encoding model?</li>\n",
    "    <li>How can we extract information from neurons (decoding)?</li>\n",
    "<br>\n",
    "Mechanistic Models of the brain\n",
    "<ul>\n",
    "    <li>How can we simulate the behavior of a single neuron on a computer?\n",
    "    </li>\n",
    "    <li>How do we simulate a network of neurons?\n",
    "    </li>\n",
    "</ul>\n",
    "<br>\n",
    "Interpretive (Normative) Models of the Brain\n",
    "<ul>\n",
    "    <li>Why do brain circuits operate the way they do?\n",
    "    </li>\n",
    "    <li>What are the computational principles underlying their operation?\n",
    "    </li>\n",
    "</ul>"
   ]
  },
  {
   "cell_type": "markdown",
   "metadata": {},
   "source": [
    "<h2> Goals"
   ]
  },
  {
   "cell_type": "markdown",
   "metadata": {},
   "source": [
    "<ol>\n",
    "<li>Quantitatively describe what a biological neuron or network of neurons is doing given experimental data\n",
    "</li>\n",
    "<li>Simulate on a computer the behavior of neurons and networks\n",
    "</li>\n",
    "<li>Formulate Computational principles underlying the operation of neurons and networks in the brain\n",
    "</li>\n",
    "</ol>"
   ]
  }
 ],
 "metadata": {
  "kernelspec": {
   "display_name": "Python 3",
   "language": "python",
   "name": "python3"
  },
  "language_info": {
   "codemirror_mode": {
    "name": "ipython",
    "version": 3
   },
   "file_extension": ".py",
   "mimetype": "text/x-python",
   "name": "python",
   "nbconvert_exporter": "python",
   "pygments_lexer": "ipython3",
   "version": "3.6.1"
  }
 },
 "nbformat": 4,
 "nbformat_minor": 2
}
