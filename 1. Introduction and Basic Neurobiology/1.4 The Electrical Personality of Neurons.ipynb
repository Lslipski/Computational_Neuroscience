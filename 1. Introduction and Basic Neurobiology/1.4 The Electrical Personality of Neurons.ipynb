{
 "cells": [
  {
   "cell_type": "markdown",
   "metadata": {},
   "source": [
    "# 1.4 The Electrical Personality of Neurons"
   ]
  },
  {
   "cell_type": "markdown",
   "metadata": {},
   "source": [
    "<b>The Neuron Doctrine:</b> The neuron is the fundamental structural and functional unit of the brain. Each neuron is a discrete cell, and <i>information</i> flows from the dendrite to the axon via the cell body (mostly)."
   ]
  },
  {
   "cell_type": "markdown",
   "metadata": {},
   "source": [
    "As input comes into the dendrites from the axons of other neurons, these inputs either increase or decrease the likelihood that this neuron will fire an action potential. These post-synaptic potentials sum to determine the likelihood of an action potential. Below are the types of post-synaptic potentials:\n",
    "\n",
    "<img src=\"epsp.png\">"
   ]
  },
  {
   "cell_type": "markdown",
   "metadata": {},
   "source": [
    "<b>Definition:</b> A neuron is a leaky bag of charged liquid. It has a cell membrane which is a lipid bilayer that is impermeable to ions. It contains channels ionic channels which mediate the exchange of ions through the cell membrane\n",
    "<ul>\n",
    "    <li> The cell membrane maintains an electrical potential difference of about -70 mV (inside is -70 compared to outside</li>\n",
    "    <li> There is more Sodium and Chloride outside, and more Potassium and organic anions inside</li>\n",
    "    <li> An ionic pump expells $NA^+$ and allows $K^-$ into the cell"
   ]
  },
  {
   "cell_type": "markdown",
   "metadata": {},
   "source": [
    "<b>Question: </b>How does the electrical potentials change in local regions of a neuron?"
   ]
  },
  {
   "cell_type": "markdown",
   "metadata": {},
   "source": [
    "<b>Ionic Channels</b> are <i>proteins</i> that selectively allow specific ions to pass through the cell membrane. Their selectivity is gated in multiple ways:\n",
    "    <ul>\n",
    "    <li> Voltage gated</li>\n",
    "    <li> Chemically gated</li>\n",
    "    <li> Mechanically gated (pressure/stretch)</li>\n",
    "    <ul>"
   ]
  },
  {
   "cell_type": "markdown",
   "metadata": {},
   "source": [
    "These gated channels allow for neuronal signaling. \n",
    "\n",
    "Inputs from other neurons -> Chemically gated channels open at synapse -> Change in local membrane potential\n",
    "\n",
    "This local change in membrane potential then causes volted gated channels to open in the dendrites, axon, and body. \n",
    "\n",
    "Volted gated channels open -> positive change in voltage -> Depolarization -> Action potential\n",
    "\n",
    "or \n",
    "\n",
    "Voltage gated channels open -> negative change in voltage -> Hyperpolarization "
   ]
  },
  {
   "cell_type": "markdown",
   "metadata": {},
   "source": [
    "The opening and closing of these voltage gated cells starts and ends the actional potential process as seen below: \n",
    "<img src=\"ap.png\">"
   ]
  },
  {
   "cell_type": "markdown",
   "metadata": {},
   "source": [
    "<b>Note:</b> It is not the case that the shape of the action potentials are different in a very meaningful way. This means that information is not being transferred between neurons via the features of this action potential."
   ]
  },
  {
   "cell_type": "markdown",
   "metadata": {},
   "source": [
    "The opening and closing of these $NA^+$ and $K^+$ ion channels successively down the axon is what propagates the action potential. However, axons may also be <i>myelinated</i> by <i>oligodendrocytes (glial cells)</i>. This enables <b>fast, long-range spike communication</b>\n",
    "\n",
    "This myelination allows the action potential to \"hop\" from one node of ranvier to the next via <i>saltatory condution</i>. This makes the axon into an active wire and allows for <i>lossless signal propagation</i>. The charge is actually propagated through the cytoplasm underneath the myelin sheath."
   ]
  },
  {
   "cell_type": "markdown",
   "metadata": {},
   "source": [
    "<b>Note: </b> Multiple Sclerosis is the case when these myelin sheaths break down."
   ]
  },
  {
   "cell_type": "markdown",
   "metadata": {},
   "source": [
    "When the spike reaches the end of the axon, we enter the synapse..."
   ]
  }
 ],
 "metadata": {
  "kernelspec": {
   "display_name": "Python 3",
   "language": "python",
   "name": "python3"
  },
  "language_info": {
   "codemirror_mode": {
    "name": "ipython",
    "version": 3
   },
   "file_extension": ".py",
   "mimetype": "text/x-python",
   "name": "python",
   "nbconvert_exporter": "python",
   "pygments_lexer": "ipython3",
   "version": "3.6.1"
  }
 },
 "nbformat": 4,
 "nbformat_minor": 2
}
