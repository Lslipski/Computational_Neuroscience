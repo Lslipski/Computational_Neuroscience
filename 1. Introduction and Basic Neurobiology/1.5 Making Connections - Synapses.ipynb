{
 "cells": [
  {
   "cell_type": "markdown",
   "metadata": {},
   "source": [
    "# 1.5 Making Connections: Synapses"
   ]
  },
  {
   "cell_type": "markdown",
   "metadata": {},
   "source": [
    "<b>Definition:</b> A synapse is a connection or junction between two neurons. They come in two main varieties.\n",
    "\n",
    "-> Electical synapses use gap junctions\n",
    "-> Chemical synapses use neurotransmitters\n",
    "\n",
    "<b>Gap junctions</b> are ion channels that span the membrane of two abutting neurons. This setup means that electical activity (like a spike) in one neuron will cause ions to rush through the channels into the connected other neuron. This leads to very fast connections between two neurons. These are typically found where sets of neurons are synchronized and in fast reflex mechanisms.\n",
    "\n",
    "<img src=\"gap.png\">"
   ]
  },
  {
   "cell_type": "markdown",
   "metadata": {},
   "source": [
    "<b>Neurotransmitters:</b> When an action potential reaches the end of an axon, vesicles with specific neurotransmitters in them fuse with the membrane, spilling the neurotransmitters into the synaptic cleft. These ions can then enter the subsequent neuron, changing the polarization. So the action potential goes from electical to chemical, back to electrical.\n",
    "\n",
    "This may be desirable because it allows for different levels of excitation to be created in the subsequent neuron by simply removing receptors for certain ions at the synapse. \n",
    "\n",
    "<b>Note:</b> the ability of chemical synapses to change the amount that certain neurons respond to the same stimuli is why they have been suggested as the site of learning and memory in the brain.\n",
    "\n",
    "<img src=\"synapse.png\">\n",
    "\n",
    "A typical cortical neuron has up to 10,000 synapses."
   ]
  },
  {
   "cell_type": "markdown",
   "metadata": {},
   "source": [
    "Synapses can be <i>excitatory</i> or <i>inhibitory</i>. This means that they either increase or decrease the postsynaptic membrane potential (the next neuron's potential)."
   ]
  },
  {
   "cell_type": "markdown",
   "metadata": {},
   "source": [
    "<b>Excitatory Synapse</b>\n",
    "\n",
    "--->Input spike \n",
    "\n",
    "-> Neurotransmitter release (ex. Glutamate) \n",
    "\n",
    "-> Binds to ion channel receptors \n",
    "\n",
    "-> Ion channels open ->$NA^+$ influx \n",
    "\n",
    "-> <i>Depolarization</i> due to EPSP"
   ]
  },
  {
   "cell_type": "markdown",
   "metadata": {},
   "source": [
    "<b>The Synapse Doctrine:</b> Synapses are the basis for learning and memory. \n",
    "\n",
    "This would mean that your memories of childhood, meeting your best friends, and falling in love all exist in your synapses. Your abilities to ride a bike and juggle and sing and dance all exist in your synapses.\n",
    "\n",
    "Synapses work through a mechanism called plasticity. One version of this is Hebbian plasticity. <br>\n",
    "\n",
    "<br><center>\"Neurons that fire together wire together\"</center> \n",
    "<img src=\"heb.png\">"
   ]
  },
  {
   "cell_type": "markdown",
   "metadata": {},
   "source": [
    "<b>Evidence:</b>"
   ]
  },
  {
   "cell_type": "markdown",
   "metadata": {},
   "source": [
    "<b>Long Term Potentiation (LTP)</b> is an experimentally observed <i>increase</i> in synaptic strength that lasts for hours or days. LTP presents as an increase in the EPSP size for the same input over time.\n",
    "It has been observed mostly in the hippocampus. \n",
    "<img src=\"ltp.jpg\">"
   ]
  },
  {
   "cell_type": "markdown",
   "metadata": {},
   "source": [
    "<b>Long Term Depression (LTD)</b> is an experimentally oberserved <i>decrease</i> in synaptic strength that lasts for hours or days. LTD presents as a <i>decrease</i> in EPSP for the same input over time."
   ]
  },
  {
   "cell_type": "markdown",
   "metadata": {},
   "source": [
    "However, LTP and LTD depend on the <i>relative timing</i> of input and output spikes! The output neuron can fire before the input neuron because of inputs it gets from other neurons.\n",
    "\n",
    "If the input spike is before the output spike, we get LTP.<br>\n",
    "If the input spike is after the output spike, we get LTD. <br>\n",
    "<img src=\"ltp.png\">"
   ]
  },
  {
   "cell_type": "markdown",
   "metadata": {},
   "source": [
    "The neurons in multiple brain areas including the cortex, are very sensitive to the timing of the input/output spikes. This is very important for learning sequences to make predictions. This is known as <b>spike-timing dependent plasticity (STDP)</b>\n",
    "<img src=\"stdp.png\">"
   ]
  },
  {
   "cell_type": "markdown",
   "metadata": {},
   "source": [
    "So how do networks of these neurons and synapses give rise to perception and cognition?\n",
    "\n",
    "Great question."
   ]
  }
 ],
 "metadata": {
  "kernelspec": {
   "display_name": "Python 3",
   "language": "python",
   "name": "python3"
  },
  "language_info": {
   "codemirror_mode": {
    "name": "ipython",
    "version": 3
   },
   "file_extension": ".py",
   "mimetype": "text/x-python",
   "name": "python",
   "nbconvert_exporter": "python",
   "pygments_lexer": "ipython3",
   "version": "3.6.1"
  }
 },
 "nbformat": 4,
 "nbformat_minor": 2
}
