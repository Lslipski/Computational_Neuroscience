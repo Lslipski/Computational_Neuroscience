{
 "cells": [
  {
   "cell_type": "markdown",
   "metadata": {},
   "source": [
    "# 2.1 What is the Neural Code?"
   ]
  },
  {
   "cell_type": "markdown",
   "metadata": {},
   "source": [
    "For us to be able to think about and respond to the world depends on our brains extracting <i>information </i> from our sensory signals and converting that information into a physical form that is represented in the brain. \n",
    "\n",
    "A common way to talk about this process is in terms of a code."
   ]
  },
  {
   "cell_type": "markdown",
   "metadata": {},
   "source": [
    "## Recording From the Brain"
   ]
  },
  {
   "cell_type": "markdown",
   "metadata": {},
   "source": [
    "We have to use various methods to look inside of the brain to determine how it is representing information.\n",
    "<b>Many Neurons</b>\n",
    "<ul>\n",
    "    <li> <b>fMRI</b>: allows us to record activity from people while they perform some (stationary)task. A magnet measures spatial perturbations in the field around the brain, which identifies changes in blood oxygenation. Provides measurements on the scale of about a $mm^3$. This represents the average activity of millions of neurons. Blood flow changes also happen slowly (time scale of seconds).<br>\n",
    "    <img src='fmri.jpg'><br>\n",
    "    <li><b>EEG</b>: captures changes in electical fields of underlying neural circuits. It is faster than fMRI, but still averages activity of many neurons at once. It uses a cap of electrodes. It provides a rather noisy signal. <br>\n",
    "    <img src='eeg.jpg'>\n",
    "</ul>\n",
    "<b>Individual Neurons</b>\n",
    "<ul>\n",
    "<li><b>Electrode Arrays</b>: when we have direct access to neural tissue, we can place this array of about 10-microns (512 electrodes, 60 microns apart), so many neurons can be recorded from simultaneously. In the image below, each electrode spike is about 2mm long and the tip of each one is an active electrode.\n",
    "<br>\n",
    "<img src='earray.png'><br>\n",
    "<li><b>Calcium Imaging</b>: A calcium indicator is put into the brain cells, which changes its flourescent properties when calcium binds to it. So the cell's flourescence is a measure of the amount of calcium in the cell. Because calcium enters the cell during an action potential, this signal represents the firing of the neuron. This can be used on up to millions of neurons at once.<br>\n",
    "<img src='calcium.jpg'><br>\n",
    "<li><b>Patch Electrodes</b>: this method allows the recoding of neuron activity from <i>inside</i> the cell by clamping an electrode onto the cell membrane. This is so valuable be cause the amplitude of the spike within the cell (change in voltages) is so much higher and therefore doesn't need to be amplified after collection.<br>\n",
    "<img src='patch.png'>\n",
    "</ul>"
   ]
  },
  {
   "cell_type": "markdown",
   "metadata": {},
   "source": [
    "## The Neural Code"
   ]
  },
  {
   "cell_type": "markdown",
   "metadata": {},
   "source": [
    "<b>The Eye</b> \n",
    "The retina converts light signals into electrical signals. We can look at these signals to begin to understand the brain.\n",
    "\n",
    "<b>Experiment</b>: A retina is disected from an eye and placed on top of a multi electrode array. It is kept in fluid that keeps it alive and active. A movie is the projected onto the retina. \n",
    "\n",
    "The outermost layer of cells in the retina, the photoreceptors (rods and cones), transfer the information to subsequent layers which accumulate and process the information. The information then reaches an output layer of cells (retinal ganglion cells) whose axons join the optic tract. \n",
    "\n",
    "<b>Data</b>: A raster plot marks where action potentials occured over the time dimension. Each instance of the experiment can be stacked to observe a kind of probability distribution that the neuron will fire at certain times. When a vertical bar of spikes is observed at a particular time, a strong neural response is indicated. What a raster of many neurons shows is that each neuron is encoding some feature of the movie.<br>\n",
    "<img src='raster.png'>"
   ]
  },
  {
   "cell_type": "markdown",
   "metadata": {},
   "source": [
    "#### Two Problems"
   ]
  },
  {
   "cell_type": "markdown",
   "metadata": {},
   "source": [
    "<b>Encoding</b>: How does a stimulus cause a pattern of responses? To answer this we can build quasi-mechanistic models.<br>\n",
    "$$P(response|stimulus)$$\n",
    "\n",
    "<b>Decoding</b>: What do the neural responses we observe tell us about what the stimulus was? This involves reconstructing what the brain is actually doing.<br>\n",
    "$$P(stimulus|response)$$"
   ]
  },
  {
   "cell_type": "markdown",
   "metadata": {},
   "source": [
    "What is the response? What is the stimulus? What is the relationship between the two?"
   ]
  },
  {
   "cell_type": "markdown",
   "metadata": {},
   "source": [
    "*What the data shows is that there is an increasing complexity in the concepts encoded at higher levels of the brain. For example, while neurons in the retina may be responding to geometric spots of light, neurons in the cortex may be responding to complex features like Brad Pitt and and Jennifer Aniston. <br>\n",
    "<img src='complex.png'><br>\n",
    "<b>Note</b> While it may seem like higher order processes involve amalgamating more and more complex features, these areas of the brain are also feeding back into the lower areas of the brain like the retina, and play a role in what information gets through in the first place. It is not strictly a feed-forward mechanism. This has implications for perception in general. <i>What you think you're looking at can change what you actually see.</i>"
   ]
  }
 ],
 "metadata": {
  "kernelspec": {
   "display_name": "Python 3",
   "language": "python",
   "name": "python3"
  },
  "language_info": {
   "codemirror_mode": {
    "name": "ipython",
    "version": 3
   },
   "file_extension": ".py",
   "mimetype": "text/x-python",
   "name": "python",
   "nbconvert_exporter": "python",
   "pygments_lexer": "ipython3",
   "version": "3.6.1"
  }
 },
 "nbformat": 4,
 "nbformat_minor": 2
}
