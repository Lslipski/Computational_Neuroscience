{
 "cells": [
  {
   "cell_type": "markdown",
   "metadata": {},
   "source": [
    "# 2.2 Neural Encoding: Simple Models"
   ]
  },
  {
   "cell_type": "markdown",
   "metadata": {},
   "source": [
    "## Constructing Response Models"
   ]
  },
  {
   "cell_type": "markdown",
   "metadata": {},
   "source": [
    "We will be talking about how to describe the response of a single neuron (a spike) to a given stimulus, and the probability of that neuron firing at a given time, given a stimulus. This will lead us to describe the <i>firing rate</i> $r(t)$ given a stimulus $s$ by looking at $$P(response|stimulus)$$"
   ]
  },
  {
   "cell_type": "markdown",
   "metadata": {},
   "source": [
    "Perhaps the most basic way to describe the firing rate as function of the input is a linear response. So that the firing rate is linearly dependent on the stimulus at some time in the very near past. $$r(t) = \\phi \\ s(t-\\tau)$$<br>\n",
    "<img src='linear.png'>"
   ]
  },
  {
   "cell_type": "markdown",
   "metadata": {},
   "source": [
    "However, we expect the response to depend not only on one recent input, but on some combination of recent inputs that happen at varying points of time in the past. <br>\n",
    "We can still describe this as a linear filter, but it will depend on some weighted sum of previous inputs. $$r(t) = \\sum\\limits_{k=0}^n s_t - _kf_k$$\n",
    "\n",
    "Starting at some time, $t$, we step back over a range of time points in the near past, indexed by $k$. At each of these time points $k$, we weight (like the phi factor above) by some factor, but now the factor depends on <i> how far back you're looking</i>."
   ]
  },
  {
   "cell_type": "markdown",
   "metadata": {},
   "source": [
    "These weight factors are given by $f_k$, which we can write can write as a function $f$, which here is indexed relative to the index $k$."
   ]
  },
  {
   "cell_type": "markdown",
   "metadata": {},
   "source": [
    "So we take the $k^th$ element of the stimulus, weight it by $f_k$, multiply the two together, go on to the next value of $k$, do the same thing and add them together. We would iterate $k$ times."
   ]
  },
  {
   "cell_type": "markdown",
   "metadata": {},
   "source": [
    "<b>Note</b>: We can also write this as an integral: $$r(t) = \\int_{-\\infty}^t d\\tau\\ s(t-\\tau)\\ f(\\tau)$$ <br>\n",
    "Here the variable $\\tau$ is a dummy variable that acts like the index $k$. This is a convolution where the set of weights $f$ is a linear filter on the input. \n",
    "\n",
    "By filtering temporally like this, the quick, jarring changes in $s$ can get smoothed out."
   ]
  },
  {
   "cell_type": "markdown",
   "metadata": {},
   "source": [
    "<b>Example 1</b>: What if the response is proportional to a <b>running average</b> of the input?\n",
    "\n",
    "Because we are taking the average over some time window of $s(t)$, $f$ will multiply each value by $1/N$, where $N$ is the number of time steps taken. <br><img src='running_avg.png'>"
   ]
  },
  {
   "cell_type": "markdown",
   "metadata": {},
   "source": [
    "<b>Example 2</b>: What if $r$ depended on $s$ over time, but with a memory that fades as time increases. That is to say what if $r$ depended on a <b>leaky average</b> of $s$?"
   ]
  },
  {
   "cell_type": "markdown",
   "metadata": {},
   "source": [
    "This uses what is called a leaky integrator, which is actually how the neuronal cell membrane behaves.<br><img src='leaky.png'>"
   ]
  },
  {
   "cell_type": "markdown",
   "metadata": {},
   "source": [
    "<b>Note</b>: A linear system looks for portions of the signal that resemble its filter. The filter amplifies these inputs.\n",
    "\n",
    "A differentiating filter will therefore produce a system that has a high output when there is a large increase in the input over a short time (think, high acceleration). See examples of other filters on page 12 of Dayan and Abbot's textbook."
   ]
  },
  {
   "cell_type": "markdown",
   "metadata": {},
   "source": [
    "### What about neurons that filter based on spatial differences instead of temporal distances?"
   ]
  },
  {
   "cell_type": "markdown",
   "metadata": {},
   "source": [
    "<b>Example</b>: Center-surround receptive fields in the retina and V1 receptive fields that are oriented to edges.\n",
    "\n",
    "We can take our same formula from before: $$r(t) = \\sum\\limits_{k=0}^n s_t - _kf_k$$ but change our weight function $f$ to account for dimensions in space: $$r(x,y) = \\sum\\limits_{x'=-n, y'=-n}^n s_{x-x',y-y'}f_{x',y'}$$"
   ]
  },
  {
   "cell_type": "markdown",
   "metadata": {},
   "source": [
    "where $s$ is now centered at (x,y) and we vary our index $(x',y')$ and lookup our filter $f$ at that point, which we then multiply by $s(x,y)$ . We iterate for all $(x',y')$ and add up the value at each index."
   ]
  },
  {
   "cell_type": "markdown",
   "metadata": {},
   "source": [
    "What this means that when a retinal ganglion cell is responding to an image, it is responding to how similar that image is to its specific receptive field. <i>Similarity</i> here is defined literally by the above procedure that we just described. The weighting of the image defined by the filter of that shape. This can also be written as a convolution: $$\\int_{-\\infty}^\\infty dx'dy'\\ s(x-x', y-y')f(x',y')$$"
   ]
  },
  {
   "cell_type": "markdown",
   "metadata": {},
   "source": [
    "Of course, this is a 2D description, which can be better explained in 3 dimensions by the following image:<br><img src='cs.png'>\n",
    "\n",
    "where we can see that surround values for $x'$ and $y'$ are negative, with high positive values for center values."
   ]
  },
  {
   "cell_type": "markdown",
   "metadata": {},
   "source": [
    "When applied to an actual image, we can look at a specific point in the image and if the image is bright there, we will get a strong response because that bright spot is hitting exactly the center of the receptive field. If instead, the image was very bright next to the center (the surround) where our eye is looking, it will have a negative weight, which will decrease the response of the neuron."
   ]
  },
  {
   "cell_type": "markdown",
   "metadata": {},
   "source": [
    "The model for a center-surround receptive field above is often approximated from a difference in 2 gaussians. It is a narrow, positive gaussian in the middle (center), and subtracted from it is a narrow, broader gaussian (surround). <br><img src='gaussian.png'>"
   ]
  },
  {
   "cell_type": "markdown",
   "metadata": {},
   "source": [
    "As we can see here, it will respond most strongly when there is a bright part of the image near to a dark part of the image."
   ]
  },
  {
   "cell_type": "markdown",
   "metadata": {},
   "source": [
    "### Spatiotemporal filtering"
   ]
  },
  {
   "cell_type": "markdown",
   "metadata": {},
   "source": [
    "$$r_{x,y}(t) = \\iiint dx'dy'd\\tau f(x',y',\\tau )s(x-x',y-y',t-\\tau )$$"
   ]
  },
  {
   "cell_type": "markdown",
   "metadata": {},
   "source": [
    "To combine the two types of filtering we've just worked through, we get a filter that depends on space and time. We're seeing frames of the receptive field (x and y) along the time dimension (like a movie).<br><img src='stf.png'>"
   ]
  },
  {
   "cell_type": "markdown",
   "metadata": {},
   "source": [
    "<b>Conclusions</b> while the power of linear filtering is very powerful, it isn't the full picture here. For example, a linear filter allows for:\n",
    "<ol>\n",
    "<li>Negative firing rates\n",
    "<li>Firing rates that increase indefinitely as input increases\n",
    "</ol>\n",
    "We can solve these problems by imposing a non-linear function applied to the linear stimulus. It will have an effect such that when the the input becomes negative, the firing rate goes to zero and for very large inputs, the firing rate saturates to some fixed value. This is a <b>static non-linearity</b><br><img src='nonlin.png'>"
   ]
  },
  {
   "cell_type": "markdown",
   "metadata": {},
   "source": [
    "Note that $s*f$ is $s$ convolved with $f$."
   ]
  }
 ],
 "metadata": {
  "kernelspec": {
   "display_name": "Python 3",
   "language": "python",
   "name": "python3"
  },
  "language_info": {
   "codemirror_mode": {
    "name": "ipython",
    "version": 3
   },
   "file_extension": ".py",
   "mimetype": "text/x-python",
   "name": "python",
   "nbconvert_exporter": "python",
   "pygments_lexer": "ipython3",
   "version": "3.6.1"
  }
 },
 "nbformat": 4,
 "nbformat_minor": 2
}
